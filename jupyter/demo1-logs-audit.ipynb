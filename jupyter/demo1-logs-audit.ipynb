{
 "cells": [
  {
   "cell_type": "code",
   "execution_count": 1,
   "id": "fc5200b4-b972-469b-bc66-a723a7ee5fc2",
   "metadata": {},
   "outputs": [],
   "source": [
    "from langchain_openai import ChatOpenAI\n",
    "from langchain_ollama import ChatOllama\n",
    "from langchain.prompts import PromptTemplate\n",
    "from langchain.chains import LLMChain\n",
    "import os\n",
    "import openai\n",
    "import getpass\n",
    "import logging"
   ]
  },
  {
   "cell_type": "code",
   "execution_count": 2,
   "id": "64aaf992-52a9-44d9-bf10-24366444235e",
   "metadata": {},
   "outputs": [
    {
     "name": "stderr",
     "output_type": "stream",
     "text": [
      "/tmp/ipykernel_1568848/3004803029.py:45: LangChainDeprecationWarning: The class `LLMChain` was deprecated in LangChain 0.1.17 and will be removed in 1.0. Use :meth:`~RunnableSequence, e.g., `prompt | llm`` instead.\n",
      "  openai_chain = LLMChain(llm=openai_llm, prompt=prompt_template)\n"
     ]
    }
   ],
   "source": [
    "openai.api_base = \"http://172.16.3.115:2024/v1\"\n",
    "openai.api_key = \"sk-CFvfPTt9gypWFMsY0mWSd29mysqqqqqqqqqqqq111\"\n",
    "openai_model_name=\"qwen2.5-7b\"\n",
    "\n",
    "prompt_template = PromptTemplate(\n",
    "        input_variables=[\"ticket_content\", \"executed_commands\"],\n",
    "        template=\"\"\"\\\n",
    "你是一名专业的IT运维审计助手，负责分析工单执行情况。以下是输入内容：\n",
    "1. 原始工单内容：\n",
    "{ticket_content}\n",
    "\n",
    "2. 实际执行的命令：\n",
    "{executed_commands}\n",
    "\n",
    "请完成以下任务：\n",
    "1. 对比工单内容和实际执行命令，分析命令是否完全一致。\n",
    "2. 如果存在不一致，请明确指出工单中的命令与实际执行命令的差异，以及可能的原因。\n",
    "3. 检查实际执行的命令是否完全按照工单的步骤顺序执行。\n",
    "4. 检查是否存在额外的、不合规的命令操作，并详细说明原因及风险。\n",
    "5. 最后，生成一份总结报告，内容包括：\n",
    "   - 执行合规性分析（符合/不符合）。\n",
    "   - 不一致命令及原因分析。\n",
    "   - 不合规命令的风险说明。\n",
    "   - 提供明确的审批是否通过的结论。\n",
    "\"\"\"\n",
    "    )\n",
    "\n",
    "openai_llm = ChatOpenAI(\n",
    "        model=openai_model_name,\n",
    "        openai_api_base=openai.api_base,\n",
    "        openai_api_key=openai.api_key,\n",
    "        temperature=0.7,\n",
    "        max_tokens=1500\n",
    "    )\n",
    "\n",
    "ollama_base = \"http://172.16.3.115:21434\"\n",
    "ollama_model_name=\"qwen2.5\"\n",
    "\n",
    "ollama_llm = ChatOllama(\n",
    "        model=ollama_model_name,\n",
    "        temperature=0.7,\n",
    "        base_url=ollama_base\n",
    "    )\n",
    "\n",
    "openai_chain = LLMChain(llm=openai_llm, prompt=prompt_template)\n",
    "ollama_chain = LLMChain(llm=ollama_llm, prompt=prompt_template)"
   ]
  },
  {
   "cell_type": "code",
   "execution_count": 3,
   "id": "4d617474-d568-474b-b890-2b09454f4756",
   "metadata": {},
   "outputs": [],
   "source": [
    "ticket_content = \"\"\"\\\n",
    "升级背景：系统需要从 v1.0.0 升级到 v2.0.0，以修复安全漏洞并优化性能。\n",
    "\n",
    "升级步骤：\n",
    "1. 停止相关服务：systemctl stop webserver\n",
    "2. 备份数据目录：cp -r /var/www/html /backup/html_backup\n",
    "3. 安装升级包：dpkg -i /updates/webserver_v2.0.0.deb\n",
    "4. 检查版本号：webserver --version\n",
    "5. 启动服务：systemctl start webserver\n",
    "6. 检查服务状态：systemctl status webserver\n",
    "\"\"\"\n",
    "executed_commands = \"\"\"\n",
    "[\n",
    "    {\n",
    "        \"序号\": 1,\n",
    "        \"执行时间\": \"2024-11-21 10:00:00\",\n",
    "        \"是否允许执行\": true,\n",
    "        \"命令\": \"systemctl stop webserver\"\n",
    "    },\n",
    "    {\n",
    "        \"序号\": 2,\n",
    "        \"执行时间\": \"2024-11-21 10:05:00\",\n",
    "        \"是否允许执行\": true,\n",
    "        \"命令\": \"cp -r /var/www/html /backup/html_backup\"\n",
    "    },\n",
    "    {\n",
    "        \"序号\": 3,\n",
    "        \"执行时间\": \"2024-11-21 10:10:00\",\n",
    "        \"是否允许执行\": true,\n",
    "        \"命令\": \"dpkg -i /updates/webserver_v2.0.0.deb\"\n",
    "    },\n",
    "    {\n",
    "        \"序号\": 4,\n",
    "        \"执行时间\": \"2024-11-21 10:15:00\",\n",
    "        \"是否允许执行\": true,\n",
    "        \"命令\": \"webserver --version\"\n",
    "    },\n",
    "    {\n",
    "        \"序号\": 5,\n",
    "        \"执行时间\": \"2024-11-21 10:20:00\",\n",
    "        \"是否允许执行\": false,\n",
    "        \"命令\": \"rm -rf /var/www/html/temp\"\n",
    "    },\n",
    "    {\n",
    "        \"序号\": 6,\n",
    "        \"执行时间\": \"2024-11-21 10:25:00\",\n",
    "        \"是否允许执行\": true,\n",
    "        \"命令\": \"systemctl start webserver\"\n",
    "    },\n",
    "    {\n",
    "        \"序号\": 7,\n",
    "        \"执行时间\": \"2024-11-21 10:30:00\",\n",
    "        \"是否允许执行\": true,\n",
    "        \"命令\": \"systemctl status webserver\"\n",
    "    }\n",
    "]\n",
    "\"\"\"\n"
   ]
  },
  {
   "cell_type": "code",
   "execution_count": 4,
   "id": "ea3be92f-e413-4ab3-b748-5dfefeda07d5",
   "metadata": {},
   "outputs": [
    {
     "name": "stderr",
     "output_type": "stream",
     "text": [
      "/tmp/ipykernel_1568848/355422183.py:1: LangChainDeprecationWarning: The method `Chain.run` was deprecated in langchain 0.1.0 and will be removed in 1.0. Use :meth:`~invoke` instead.\n",
      "  result = openai_chain.run({\n"
     ]
    }
   ],
   "source": [
    "result = openai_chain.run({\n",
    "            \"ticket_content\": ticket_content.strip(),\n",
    "            \"executed_commands\": executed_commands.strip()\n",
    "        })\n",
    "ollam_result = ollama_chain.run({\n",
    "            \"ticket_content\": ticket_content.strip(),\n",
    "            \"executed_commands\": executed_commands.strip()\n",
    "        })"
   ]
  },
  {
   "cell_type": "code",
   "execution_count": 7,
   "id": "f03e0d01-2f65-43d6-8a5b-2d0da2b93d28",
   "metadata": {},
   "outputs": [
    {
     "data": {
      "text/markdown": [
       "### 总结报告\n",
       "\n",
       "#### 1. 执行合规性分析\n",
       "\n",
       "**符合：**\n",
       "- 所有命令的执行步骤（除第5步外）都与工单内容一致。\n",
       "**不符合：**\n",
       "- 第5步的命令与工单内容不一致。\n",
       "\n",
       "#### 2. 不一致命令及原因分析\n",
       "\n",
       "**不一致命令：**\n",
       "- 工单中的第5步命令为 `systemctl start webserver`。\n",
       "- 实际执行的第5步命令为 `rm -rf /var/www/html/temp`。\n",
       "\n",
       "**原因分析：**\n",
       "- 可能的原因是执行人员在执行过程中错误地输入了命令，或者误操作导致了不正确的命令执行。\n",
       "- 由于 `rm -rf /var/www/html/temp` 命令可能会删除重要文件，因此需要进一步确认该命令的意图和执行的正确性。\n",
       "\n",
       "#### 3. 不合规命令的风险说明\n",
       "\n",
       "**不合规命令：**\n",
       "- `rm -rf /var/www/html/temp`。\n",
       "\n",
       "**风险说明：**\n",
       "- 该命令可能会删除 `/var/www/html/temp` 目录下的所有文件和子目录，这可能导致数据丢失或服务中断。\n",
       "- 如果该目录包含重要数据，误操作将导致不可逆的数据损失。\n",
       "- 由于该命令并非工单中所列出，可能导致服务无法正常启动。\n",
       "\n",
       "#### 4. 提供明确的审批是否通过的结论\n",
       "\n",
       "**结论：**\n",
       "- 该次升级执行存在不合规操作，不通过审批。\n",
       "- 建议：\n",
       "  - 重新执行正确的命令 `systemctl start webserver`。\n",
       "  - 在执行升级前，确保所有重要数据已备份。\n",
       "  - 严格按照工单内容操作，避免误操作。\n",
       "  - 在执行关键操作前，进行充分的测试和验证，确保操作的正确性。\n",
       "\n",
       "**最终结论：** 不通过。需要纠正不合规操作并重新执行升级流程。\n",
       "\n",
       "---\n",
       "\n",
       "**备注：** 请确保在执行任何关键命令前，有详细的记录和备份，以降低风险。在确认所有步骤正确无误后，方可继续执行后续步骤。"
      ],
      "text/plain": [
       "<IPython.core.display.Markdown object>"
      ]
     },
     "execution_count": 7,
     "metadata": {},
     "output_type": "execute_result"
    }
   ],
   "source": [
    "from IPython.display import Markdown\n",
    "Markdown(result)\n"
   ]
  },
  {
   "cell_type": "code",
   "execution_count": 8,
   "id": "65672e28-4b0f-428a-ac44-af4efbb4c71d",
   "metadata": {},
   "outputs": [
    {
     "data": {
      "text/markdown": [
       "### 总结报告\n",
       "\n",
       "#### 1. 执行合规性分析\n",
       "- **执行合规性：** 不完全符合。\n",
       "\n",
       "#### 2. 不一致命令及原因分析\n",
       "根据原始工单和实际执行的命令进行对比，发现如下不一致：\n",
       "- 工单步骤3要求的操作是安装升级包。\n",
       "- 实际执行的命令中出现了“rm -rf /var/www/html/temp”这一条命令（序号5），且未在原工单中出现。\n",
       "\n",
       "**可能的原因：**\n",
       "1. 操作者误操作，删除了不必要的临时文件夹。\n",
       "2. 系统管理员或运维人员对工单理解错误，导致执行了额外的步骤。\n",
       "\n",
       "#### 3. 额外的、不合规命令操作\n",
       "- **命令：** `rm -rf /var/www/html/temp`（序号5）\n",
       "- **原因分析及风险说明：**\n",
       "  - **原因分析：** \n",
       "    - 此命令是删除指定路径下的所有文件和子目录。\n",
       "    - 在实际执行的命令中，没有明确指出该操作的目的或必要性。可能的操作者误删临时文件夹或者对工单理解有误。\n",
       "  \n",
       "  - **风险说明：**\n",
       "    - 删除重要数据：若此“/var/www/html/temp”路径内包含重要的工作文件或其他关键文件，则可能导致业务中断或数据丢失。\n",
       "    - 安全隐患：在未经过充分评估的情况下随意删除文件，可能会影响到系统的运行稳定性。\n",
       "\n",
       "#### 4. 结论\n",
       "- **审批是否通过的结论：** 不通过。原因在于实际操作中存在额外的操作步骤，并且这些操作与原工单不符，存在一定风险。\n",
       "  \n",
       "### 建议措施\n",
       "1. 对所有运维人员进行培训，确保严格按照工单执行任务。\n",
       "2. 在执行重要命令前，务必再次确认其必要性及影响范围。\n",
       "3. 引入审批机制，在关键步骤的操作前后增加复核流程。\n",
       "\n",
       "### 总结报告结束\n",
       "\n",
       "请根据此总结报告进一步采取相应措施，以确保后续操作的合规性和安全性。"
      ],
      "text/plain": [
       "<IPython.core.display.Markdown object>"
      ]
     },
     "execution_count": 8,
     "metadata": {},
     "output_type": "execute_result"
    }
   ],
   "source": [
    "Markdown(ollam_result)"
   ]
  },
  {
   "cell_type": "code",
   "execution_count": null,
   "id": "6afa04ed-6b3d-4bde-b2e2-50becec2f3f5",
   "metadata": {},
   "outputs": [],
   "source": []
  }
 ],
 "metadata": {
  "kernelspec": {
   "display_name": "Python 3 (ipykernel)",
   "language": "python",
   "name": "python3"
  },
  "language_info": {
   "codemirror_mode": {
    "name": "ipython",
    "version": 3
   },
   "file_extension": ".py",
   "mimetype": "text/x-python",
   "name": "python",
   "nbconvert_exporter": "python",
   "pygments_lexer": "ipython3",
   "version": "3.10.15"
  }
 },
 "nbformat": 4,
 "nbformat_minor": 5
}
