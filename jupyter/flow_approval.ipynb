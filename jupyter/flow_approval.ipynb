{
 "cells": [
  {
   "cell_type": "code",
   "execution_count": 3,
   "metadata": {
    "vscode": {
     "languageId": "plaintext"
    }
   },
   "outputs": [
    {
     "name": "stdout",
     "output_type": "stream",
     "text": [
      "分析结果：\n",
      "1. 分析工单中的命令与实际执行的命令对比：\n",
      "   - 工单中的命令与实际执行的命令大部分一致，但是最后一条命令不同。工单中的命令是检查用户alice的信息，而实际执行的命令是检查用户bob的信息。\n",
      "   \n",
      "2. 不一致的命令和对应的差异原因：\n",
      "   - 工单命令：`id alice`\n",
      "   - 实际执行命令：`id bob`\n",
      "   \n",
      "   差异原因：在最后一步执行时，操作人员可能误输入了另一个用户名，导致检查的不是工单中指定的用户alice，而是检查了bob的信息。这可能是因为操作人员操作失误或混淆了操作对象。\n",
      "\n",
      "3. 改进建议：\n",
      "   - 在执行每个命令前进行确认，确保操作对象和操作内容与工单要求一致。\n",
      "   - 在执行敏感操作，如创建用户、修改密码等操作时，可以先用`-D`查看默认配置，确保配置正确，再执行命令。\n",
      "   - 使用脚本自动化处理，以减少人为错误。在脚本中加入必要的检查和确认步骤，比如检查用户是否存在，密码是否符合策略等。\n",
      "   - 在执行完每个步骤后，通过日志或系统状态确认是否成功执行，并与预期结果对比，确保操作正确。\n",
      "   - 执行完所有命令后，再次检查用户信息以确保所有操作都正确完成，可以使用`id alice`命令确认alice的用户信息，包括其组信息等。\n"
     ]
    }
   ],
   "source": [
    "import openai\n",
    "\n",
    "# 配置 OpenAI API\n",
    "openai.api_base = \"http://172.16.3.115:2024/v1\"\n",
    "openai.api_key = \"sk-CFvfPTt9gypWFMsY0mWSd29mysqqqqqqqqqqqq111\"\n",
    "\n",
    "def analyze_ticket(commands_in_ticket, executed_commands):\n",
    "    \"\"\"\n",
    "    使用 OpenAI API 分析工单命令与实际执行命令的匹配情况。\n",
    "    \n",
    "    参数:\n",
    "    commands_in_ticket (str): 工单内容中的命令列表（文本形式）。\n",
    "    executed_commands (list): 实际执行的命令集合（列表形式）。\n",
    "    \n",
    "    返回:\n",
    "    dict: 包括结果分析、不一致项和改进建议。\n",
    "    \"\"\"\n",
    "    # 构造提示词\n",
    "    prompt = f\"\"\"\n",
    "    工单命令内容如下：\n",
    "    {commands_in_ticket}\n",
    "\n",
    "    实际执行的命令如下：\n",
    "    {executed_commands}\n",
    "\n",
    "    请完成以下任务：\n",
    "    1. 分析工单中的命令与实际执行命令是否完全一致。\n",
    "    2. 如果不一致，指出不一致的命令和对应的差异原因。\n",
    "    3. 提供改进建议，如何更好地保证命令执行符合工单要求。\n",
    "    \"\"\"\n",
    "\n",
    "    # 调用 OpenAI API\n",
    "    response = openai.ChatCompletion.create(\n",
    "        model=\"qwen2.5-14b\",  # 使用大模型，例如 GPT-4\n",
    "        messages=[\n",
    "            {\"role\": \"system\", \"content\": \"你是一位专业的IT运维助手，善于分析命令执行的准确性并给出改进建议。\"},\n",
    "            {\"role\": \"user\", \"content\": prompt}\n",
    "        ],\n",
    "        temperature=0.7,\n",
    "        max_tokens=500\n",
    "    )\n",
    "\n",
    "    # 获取模型返回结果\n",
    "    result = response['choices'][0]['message']['content']\n",
    "    return result\n",
    "\n",
    "\n",
    "# 示例使用\n",
    "if __name__ == \"__main__\":\n",
    "    # 输入示例\n",
    "    ticket_content = \"\"\"\n",
    "    1. 创建新用户： useradd alice\n",
    "    2. 修改密码： passwd alice\n",
    "    3. 设置用户组： usermod -aG admin alice\n",
    "    4. 检查用户是否创建： id alice\n",
    "    \"\"\"\n",
    "    executed_commands = [\n",
    "        \"useradd alice\",\n",
    "        \"passwd alice\",\n",
    "        \"usermod -aG admin alice\",\n",
    "        \"id bob\"  # 这里故意写错以制造不一致\n",
    "    ]\n",
    "\n",
    "    # 调用分析函数\n",
    "    analysis_result = analyze_ticket(ticket_content, executed_commands)\n",
    "    print(\"分析结果：\")\n",
    "    print(analysis_result)\n"
   ]
  },
  {
   "cell_type": "code",
   "execution_count": null,
   "metadata": {},
   "outputs": [],
   "source": [
    "\n"
   ]
  }
 ],
 "metadata": {
  "kernelspec": {
   "display_name": "Python 3 (ipykernel)",
   "language": "python",
   "name": "python3"
  },
  "language_info": {
   "codemirror_mode": {
    "name": "ipython",
    "version": 3
   },
   "file_extension": ".py",
   "mimetype": "text/x-python",
   "name": "python",
   "nbconvert_exporter": "python",
   "pygments_lexer": "ipython3",
   "version": "3.10.15"
  }
 },
 "nbformat": 4,
 "nbformat_minor": 4
}
